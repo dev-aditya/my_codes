{
 "cells": [
  {
   "cell_type": "markdown",
   "metadata": {
    "id": "UzbjJJyBwL1K"
   },
   "source": [
    "#  **Hall Effect**\n",
    "\n",
    "**Submitted by:** Aditya Dev (MS19022)\n",
    "\n",
    "## **Objectives** \n",
    "\n",
    "-  To find the Hall coefficient from Hall Voltage v/s Current Graph. \n",
    "-  Determine the concentration of majority charge carriers in the probe.  \n",
    "-  Determine the conductivity of the specimen \n",
    "-  Find the mobility of the charge carriers.  \n",
    "-  Determine the type of charge carriers.\n",
    "\n",
    "### Dimensions of Specimen \n",
    "\n",
    " * $L_x = 6 mm$ \n",
    " * $L_y = 4 mm$ \n",
    " * $L_x = 0.5 mm$ "
   ]
  },
  {
   "cell_type": "code",
   "execution_count": 1,
   "metadata": {
    "id": "-y-x1427vwHG",
    "tags": [
     "fs"
    ]
   },
   "outputs": [],
   "source": [
    "import numpy as np\n",
    "import pandas as pd\n",
    "import scipy.optimize as sp\n",
    "import matplotlib.pyplot as plt\n",
    "import matplotlib as mpl\n",
    "mpl.style.use(\"seaborn-dark\")\n",
    "from IPython.display import display, Markdown"
   ]
  },
  {
   "cell_type": "code",
   "execution_count": 2,
   "metadata": {
    "id": "xhzuw6gAwL1d"
   },
   "outputs": [],
   "source": [
    "## SETTING THE DIMENSIONS OF THE SPECIMEN\n",
    "Lx, Ly, Lz = np.array([6, 4, 0.5])*10**-3  ## IN SI UNITS (m)\n",
    "\n",
    "# FUNCTION TO BE USED FOR CURVE FITTING\n",
    "def f(x, m, c):\n",
    "    return m*x + c   ## THIS LINEAR RELATION WILL BE USED IN ALL THE COMING PLOTS"
   ]
  },
  {
   "cell_type": "markdown",
   "metadata": {
    "id": "EiAdAbgfwL1g"
   },
   "source": [
    "## **Reading the data from the CSV file** "
   ]
  },
  {
   "cell_type": "code",
   "execution_count": 3,
   "metadata": {
    "id": "MWe65pPrvwIE"
   },
   "outputs": [
    {
     "data": {
      "text/markdown": [
       "**CURRENT AND HALL VOLTAGE DATA FOR B = 3600 Gauss**"
      ],
      "text/plain": [
       "<IPython.core.display.Markdown object>"
      ]
     },
     "metadata": {},
     "output_type": "display_data"
    },
    {
     "data": {
      "text/html": [
       "<div>\n",
       "<style scoped>\n",
       "    .dataframe tbody tr th:only-of-type {\n",
       "        vertical-align: middle;\n",
       "    }\n",
       "\n",
       "    .dataframe tbody tr th {\n",
       "        vertical-align: top;\n",
       "    }\n",
       "\n",
       "    .dataframe thead th {\n",
       "        text-align: right;\n",
       "    }\n",
       "</style>\n",
       "<table border=\"1\" class=\"dataframe\">\n",
       "  <thead>\n",
       "    <tr style=\"text-align: right;\">\n",
       "      <th></th>\n",
       "      <th>Current(mA)</th>\n",
       "      <th>Hall Voltage(mV)</th>\n",
       "      <th>Hall Voltage 2</th>\n",
       "      <th>Avg. Voltage</th>\n",
       "    </tr>\n",
       "  </thead>\n",
       "  <tbody>\n",
       "    <tr>\n",
       "      <th>0</th>\n",
       "      <td>5.00</td>\n",
       "      <td>9.3</td>\n",
       "      <td>-8.2</td>\n",
       "      <td>8.75</td>\n",
       "    </tr>\n",
       "    <tr>\n",
       "      <th>1</th>\n",
       "      <td>5.50</td>\n",
       "      <td>10.1</td>\n",
       "      <td>-9.0</td>\n",
       "      <td>9.55</td>\n",
       "    </tr>\n",
       "    <tr>\n",
       "      <th>2</th>\n",
       "      <td>5.91</td>\n",
       "      <td>11.0</td>\n",
       "      <td>-9.7</td>\n",
       "      <td>10.35</td>\n",
       "    </tr>\n",
       "    <tr>\n",
       "      <th>3</th>\n",
       "      <td>6.49</td>\n",
       "      <td>12.0</td>\n",
       "      <td>-10.6</td>\n",
       "      <td>11.30</td>\n",
       "    </tr>\n",
       "    <tr>\n",
       "      <th>4</th>\n",
       "      <td>6.90</td>\n",
       "      <td>12.8</td>\n",
       "      <td>-11.2</td>\n",
       "      <td>12.00</td>\n",
       "    </tr>\n",
       "    <tr>\n",
       "      <th>5</th>\n",
       "      <td>7.31</td>\n",
       "      <td>13.5</td>\n",
       "      <td>-11.8</td>\n",
       "      <td>12.65</td>\n",
       "    </tr>\n",
       "    <tr>\n",
       "      <th>6</th>\n",
       "      <td>7.73</td>\n",
       "      <td>14.4</td>\n",
       "      <td>-12.5</td>\n",
       "      <td>13.45</td>\n",
       "    </tr>\n",
       "    <tr>\n",
       "      <th>7</th>\n",
       "      <td>8.03</td>\n",
       "      <td>14.9</td>\n",
       "      <td>-13.0</td>\n",
       "      <td>13.95</td>\n",
       "    </tr>\n",
       "    <tr>\n",
       "      <th>8</th>\n",
       "      <td>8.54</td>\n",
       "      <td>15.9</td>\n",
       "      <td>-13.7</td>\n",
       "      <td>14.80</td>\n",
       "    </tr>\n",
       "    <tr>\n",
       "      <th>9</th>\n",
       "      <td>8.91</td>\n",
       "      <td>16.5</td>\n",
       "      <td>-14.3</td>\n",
       "      <td>15.40</td>\n",
       "    </tr>\n",
       "    <tr>\n",
       "      <th>10</th>\n",
       "      <td>9.24</td>\n",
       "      <td>17.1</td>\n",
       "      <td>-14.8</td>\n",
       "      <td>15.95</td>\n",
       "    </tr>\n",
       "    <tr>\n",
       "      <th>11</th>\n",
       "      <td>9.77</td>\n",
       "      <td>18.1</td>\n",
       "      <td>-15.6</td>\n",
       "      <td>16.85</td>\n",
       "    </tr>\n",
       "    <tr>\n",
       "      <th>12</th>\n",
       "      <td>10.10</td>\n",
       "      <td>18.5</td>\n",
       "      <td>-16.1</td>\n",
       "      <td>17.30</td>\n",
       "    </tr>\n",
       "    <tr>\n",
       "      <th>13</th>\n",
       "      <td>10.55</td>\n",
       "      <td>19.2</td>\n",
       "      <td>-16.8</td>\n",
       "      <td>18.00</td>\n",
       "    </tr>\n",
       "    <tr>\n",
       "      <th>14</th>\n",
       "      <td>11.05</td>\n",
       "      <td>20.9</td>\n",
       "      <td>-17.5</td>\n",
       "      <td>19.20</td>\n",
       "    </tr>\n",
       "    <tr>\n",
       "      <th>15</th>\n",
       "      <td>11.55</td>\n",
       "      <td>21.9</td>\n",
       "      <td>-18.2</td>\n",
       "      <td>20.05</td>\n",
       "    </tr>\n",
       "    <tr>\n",
       "      <th>16</th>\n",
       "      <td>12.02</td>\n",
       "      <td>22.9</td>\n",
       "      <td>-18.8</td>\n",
       "      <td>20.85</td>\n",
       "    </tr>\n",
       "    <tr>\n",
       "      <th>17</th>\n",
       "      <td>12.72</td>\n",
       "      <td>24.3</td>\n",
       "      <td>-19.8</td>\n",
       "      <td>22.05</td>\n",
       "    </tr>\n",
       "    <tr>\n",
       "      <th>18</th>\n",
       "      <td>13.05</td>\n",
       "      <td>25.8</td>\n",
       "      <td>-20.3</td>\n",
       "      <td>23.05</td>\n",
       "    </tr>\n",
       "    <tr>\n",
       "      <th>19</th>\n",
       "      <td>13.72</td>\n",
       "      <td>26.3</td>\n",
       "      <td>-21.4</td>\n",
       "      <td>23.85</td>\n",
       "    </tr>\n",
       "  </tbody>\n",
       "</table>\n",
       "</div>"
      ],
      "text/plain": [
       "    Current(mA)  Hall Voltage(mV)  Hall Voltage 2  Avg. Voltage\n",
       "0          5.00               9.3            -8.2          8.75\n",
       "1          5.50              10.1            -9.0          9.55\n",
       "2          5.91              11.0            -9.7         10.35\n",
       "3          6.49              12.0           -10.6         11.30\n",
       "4          6.90              12.8           -11.2         12.00\n",
       "5          7.31              13.5           -11.8         12.65\n",
       "6          7.73              14.4           -12.5         13.45\n",
       "7          8.03              14.9           -13.0         13.95\n",
       "8          8.54              15.9           -13.7         14.80\n",
       "9          8.91              16.5           -14.3         15.40\n",
       "10         9.24              17.1           -14.8         15.95\n",
       "11         9.77              18.1           -15.6         16.85\n",
       "12        10.10              18.5           -16.1         17.30\n",
       "13        10.55              19.2           -16.8         18.00\n",
       "14        11.05              20.9           -17.5         19.20\n",
       "15        11.55              21.9           -18.2         20.05\n",
       "16        12.02              22.9           -18.8         20.85\n",
       "17        12.72              24.3           -19.8         22.05\n",
       "18        13.05              25.8           -20.3         23.05\n",
       "19        13.72              26.3           -21.4         23.85"
      ]
     },
     "metadata": {},
     "output_type": "display_data"
    },
    {
     "data": {
      "text/markdown": [
       "**CURRENT AND HALL VOLTAGE DATA FOR B = 2180 Gauss**"
      ],
      "text/plain": [
       "<IPython.core.display.Markdown object>"
      ]
     },
     "metadata": {},
     "output_type": "display_data"
    },
    {
     "data": {
      "text/html": [
       "<div>\n",
       "<style scoped>\n",
       "    .dataframe tbody tr th:only-of-type {\n",
       "        vertical-align: middle;\n",
       "    }\n",
       "\n",
       "    .dataframe tbody tr th {\n",
       "        vertical-align: top;\n",
       "    }\n",
       "\n",
       "    .dataframe thead th {\n",
       "        text-align: right;\n",
       "    }\n",
       "</style>\n",
       "<table border=\"1\" class=\"dataframe\">\n",
       "  <thead>\n",
       "    <tr style=\"text-align: right;\">\n",
       "      <th></th>\n",
       "      <th>Current(mA)</th>\n",
       "      <th>Hall Voltage(mV)</th>\n",
       "      <th>Hall Voltage 2</th>\n",
       "      <th>Avg. Voltage</th>\n",
       "    </tr>\n",
       "  </thead>\n",
       "  <tbody>\n",
       "    <tr>\n",
       "      <th>0</th>\n",
       "      <td>4.69</td>\n",
       "      <td>6</td>\n",
       "      <td>-5</td>\n",
       "      <td>5.5</td>\n",
       "    </tr>\n",
       "    <tr>\n",
       "      <th>1</th>\n",
       "      <td>6.10</td>\n",
       "      <td>8</td>\n",
       "      <td>-7</td>\n",
       "      <td>7.5</td>\n",
       "    </tr>\n",
       "    <tr>\n",
       "      <th>2</th>\n",
       "      <td>7.20</td>\n",
       "      <td>10</td>\n",
       "      <td>-9</td>\n",
       "      <td>9.5</td>\n",
       "    </tr>\n",
       "    <tr>\n",
       "      <th>3</th>\n",
       "      <td>8.50</td>\n",
       "      <td>11</td>\n",
       "      <td>-10</td>\n",
       "      <td>10.5</td>\n",
       "    </tr>\n",
       "    <tr>\n",
       "      <th>4</th>\n",
       "      <td>9.10</td>\n",
       "      <td>12</td>\n",
       "      <td>-11</td>\n",
       "      <td>11.5</td>\n",
       "    </tr>\n",
       "  </tbody>\n",
       "</table>\n",
       "</div>"
      ],
      "text/plain": [
       "   Current(mA)  Hall Voltage(mV)  Hall Voltage 2  Avg. Voltage\n",
       "0         4.69                 6              -5           5.5\n",
       "1         6.10                 8              -7           7.5\n",
       "2         7.20                10              -9           9.5\n",
       "3         8.50                11             -10          10.5\n",
       "4         9.10                12             -11          11.5"
      ]
     },
     "metadata": {},
     "output_type": "display_data"
    }
   ],
   "source": [
    "g3600 = pd.read_csv(\"B3600G.csv\")  ## data containing hall voltage at B = 3600 Gauss\n",
    "g2180 = pd.read_csv(\"B2180G.csv\")  ## data containing hall voltage at B = 2180 Gauss\n",
    "\n",
    "## Makes a new column with average Hall voltage\n",
    "\n",
    "g2180[\"Avg. Voltage\"] = 0.5*(g2180[\"Hall Voltage(mV)\"] - g2180[\"Hall Voltage 2\"])\n",
    "g3600[\"Avg. Voltage\"] = 0.5*(g3600[\"Hall Voltage(mV)\"] - g3600[\"Hall Voltage 2\"])\n",
    "\n",
    "display(Markdown(\"**CURRENT AND HALL VOLTAGE DATA FOR B = 3600 Gauss**\"))\n",
    "display(g3600)\n",
    "display(Markdown(\"**CURRENT AND HALL VOLTAGE DATA FOR B = 2180 Gauss**\"))\n",
    "display(g2180)"
   ]
  },
  {
   "cell_type": "markdown",
   "metadata": {
    "id": "2v8LpB_pwL1j"
   },
   "source": [
    "## **Plotting data for magnetic field B = 3600 G**"
   ]
  },
  {
   "cell_type": "code",
   "execution_count": 4,
   "metadata": {
    "id": "4aeuuDmFvwIG",
    "outputId": "54c8b8e2-64d4-4d8a-83b6-d22ab1627ced"
   },
   "outputs": [
    {
     "data": {
      "image/png": "[encoded data removed]",
      "text/plain": [
       "<Figure size 648x432 with 1 Axes>"
      ]
     },
     "metadata": {},
     "output_type": "display_data"
    }
   ],
   "source": [
    "g3600.plot(\"Current(mA)\", \"Avg. Voltage\", kind = \"scatter\",\n",
    "           xlabel  = \"Current(mA)\", ylabel = \"Hall Voltage(mA)\",\n",
    "           figsize = [3*3, 2*3], marker = \"D\",\n",
    "           color = \"green\", grid = True, label = \"B = 3600 Gauss\")\n",
    "\n",
    "# FINDING THE FEST FIT CURVE\n",
    "x = np.linspace(4.5, 14.5, 1000)\n",
    "args2, _2 = sp.curve_fit(f, g3600[\"Current(mA)\"], g3600[\"Avg. Voltage\"])  ## curve fitting\n",
    "\n",
    "m = args2[0]\n",
    "\n",
    "Δm, Δc = np.sqrt(np.diag(_2))  ## Standard deviation\n",
    "#########################\n",
    "\n",
    "plt.plot(x, f(x, *args2), color = \"#33afe8\",\n",
    "        label = \"Best fit curve\")\n",
    "\n",
    "### TEXT BOX\n",
    "text = \"\\n\".join([\"m = {:.4f}\".format(m), \"Δm = {:.4f}\".format(Δm),\n",
    "                  \"c = {:.4f}\".format(args2[1]), \"Δc = {:.4f}\".format(Δc)])\n",
    "\n",
    "props = dict(boxstyle='round', facecolor='#ccff00',\n",
    "             alpha = 0.5, edgecolor = \"black\")\n",
    "\n",
    "plt.text(12, 12.5, text, fontsize=13, \n",
    "        verticalalignment='top', bbox = props)\n",
    "##########################\n",
    "\n",
    "plt.legend()\n",
    "plt.suptitle(\"Hall Voltage v/s Current\", \n",
    "             fontsize = 20)\n",
    "\n",
    "plt.title(\"With B = 3600 G\", fontsize = 12)\n",
    "plt.savefig(\"B3600.png\", dpi = 300)"
   ]
  },
  {
   "cell_type": "markdown",
   "metadata": {
    "id": "bZr7ZDK8wL1q"
   },
   "source": [
    "### **Calculating the Hall Coefficient: B = 3600 G**\n",
    "\n",
    "\n",
    "We know the relation:\n",
    "$$V_H = \\frac{R_H \\cdot B}{L_z} I$$\n",
    "\n",
    "So, in the above graph (_slope_) $m = \\frac{R_H \\cdot B}{L_z}$ . Therefore we have"
   ]
  },
  {
   "cell_type": "code",
   "execution_count": 5,
   "metadata": {
    "id": "RlgJfb6TwL1r",
    "outputId": "221ff934-cd4c-42f4-9130-27fd2d40d6f7"
   },
   "outputs": [
    {
     "data": {
      "text/markdown": [
       "_**Using the values we get:**_\n"
      ],
      "text/plain": [
       "<IPython.core.display.Markdown object>"
      ]
     },
     "metadata": {},
     "output_type": "display_data"
    },
    {
     "data": {
      "text/markdown": [
       "$R_H$ : 0.00241 $\\Omega·m \\over T$\n",
       "\n",
       "$\\Delta R_H$:  0.00002 $\\Omega·m \\over T$"
      ],
      "text/plain": [
       "<IPython.core.display.Markdown object>"
      ]
     },
     "metadata": {},
     "output_type": "display_data"
    }
   ],
   "source": [
    "B = 3600e-4 ## IN TESLA\n",
    "\n",
    "Rh1 = (m*Lz)/(B)\n",
    "ΔRh1 = (Rh1*Δm)/(m)\n",
    "\n",
    "display(Markdown(\"_**Using the values we get:**_\\n\"))\n",
    "display(Markdown(\"\"\"$R_H$ : {:.5f} $\\Omega·m \\over T$\n",
    "\n",
    "$\\Delta R_H$:  {:.5f} $\\Omega·m \\over T$\"\"\".format(Rh1,  ΔRh1)))"
   ]
  },
  {
   "cell_type": "markdown",
   "metadata": {
    "id": "oORLjKPDwL1t"
   },
   "source": [
    "## **Plotting data for magnetic field B = 2180 G**"
   ]
  },
  {
   "cell_type": "code",
   "execution_count": 6,
   "metadata": {
    "id": "3mhaogyrvwII",
    "outputId": "d801654c-d3ad-422c-b1e3-7c6ffdc08ccb"
   },
   "outputs": [
    {
     "data": {
      "image/png": "[encoded data removed]",
      "text/plain": [
       "<Figure size 648x432 with 1 Axes>"
      ]
     },
     "metadata": {},
     "output_type": "display_data"
    }
   ],
   "source": [
    "g2180.plot(\"Current(mA)\", \"Avg. Voltage\", kind = \"scatter\",\n",
    "           xlabel  = \"Current(mA)\", ylabel = \"Hall Voltage(mA)\",\n",
    "           figsize = [3*3, 2*3], title = \"Hall Voltage v/s Current\",\n",
    "           color = \"green\", grid = True, label = \"B = 2180 Gauss\")\n",
    "\n",
    "# FINDING THE FEST FIT CURVE\n",
    "x = np.linspace(4.5, 10, 1000)\n",
    "args3, _3 = sp.curve_fit(f, g2180[\"Current(mA)\"], g2180[\"Avg. Voltage\"])\n",
    "\n",
    "m = args3[0]\n",
    "\n",
    "Δm, Δc = np.sqrt(np.diag(_3))  ## Standard deviation\n",
    "######################\n",
    "\n",
    "plt.plot(x, f(x, *args3), color = \"#33afe8\",\n",
    "        label = \"Best fit curve\")\n",
    "\n",
    "### TEXT BOX\n",
    "text = \"\\n\".join([\"m = {:.4f}\".format(m), \"Δm = {:.4f}\".format(Δm),\n",
    "                  \"c = {:.4f}\".format(args3[1]), \"Δc = {:.4f}\".format(Δc)])\n",
    "\n",
    "props = dict(boxstyle='round', facecolor='#ccff00',\n",
    "             alpha=0.5, edgecolor = \"black\")\n",
    "\n",
    "plt.text(8.5, 7, text, fontsize=12, \n",
    "        verticalalignment='top', bbox=props)\n",
    "##########################\n",
    "\n",
    "\n",
    "plt.legend()\n",
    "plt.suptitle(\"Hall Voltage v/s Current\", \n",
    "             fontsize = 20)\n",
    "\n",
    "plt.title(\"With B = 2180 G\", fontsize = 12)\n",
    "plt.savefig(\"B2180.png\", dpi = 300)"
   ]
  },
  {
   "cell_type": "markdown",
   "metadata": {
    "id": "hxB9uu1ivwIN"
   },
   "source": [
    "### **Calculating the Hall Coefficient: B= 2180 G**\n",
    "\n",
    "Using the same relation in the above case, we get"
   ]
  },
  {
   "cell_type": "code",
   "execution_count": 7,
   "metadata": {
    "id": "Xt2_9gNcwL1z",
    "outputId": "25fcc6be-fda9-4187-a670-7b9e0baed406"
   },
   "outputs": [
    {
     "data": {
      "text/markdown": [
       "**Using the values we get:** \n"
      ],
      "text/plain": [
       "<IPython.core.display.Markdown object>"
      ]
     },
     "metadata": {},
     "output_type": "display_data"
    },
    {
     "data": {
      "text/markdown": [
       "$R_H$ : 0.00307 $\\Omega·m \\over T$\n",
       "\n",
       "$\\Delta R_H$:  0.00021 $\\Omega·m \\over T$"
      ],
      "text/plain": [
       "<IPython.core.display.Markdown object>"
      ]
     },
     "metadata": {},
     "output_type": "display_data"
    }
   ],
   "source": [
    "B = 2180e-4 ## IN TESLA\n",
    "\n",
    "Rh2 = (m*Lz)/(B)\n",
    "ΔRh2 = (Rh2*Δm)/(m)\n",
    "\n",
    "display(Markdown(\"**Using the values we get:** \\n\"))\n",
    "display(Markdown(\"\"\"$R_H$ : {:.5f} $\\Omega·m \\over T$\n",
    "\n",
    "$\\Delta R_H$:  {:.5f} $\\Omega·m \\over T$\"\"\".format(Rh2,  ΔRh2)))"
   ]
  },
  {
   "cell_type": "markdown",
   "metadata": {
    "id": "5N0m1LjowL11"
   },
   "source": [
    "## **Concentration ($n$) of the Charge Carriers**\n",
    "\n",
    "Remember the relation:\n",
    "$$ R_H = \\frac{1}{qn}$$\n",
    "\n",
    "This implies:\n",
    "$$n = {1 \\over qR_H }$$"
   ]
  },
  {
   "cell_type": "code",
   "execution_count": 8,
   "metadata": {
    "id": "QPzi-m0XwL11",
    "outputId": "5092df46-c2c5-4206-cabc-893386820f7d"
   },
   "outputs": [
    {
     "data": {
      "text/markdown": [
       "We get the result:"
      ],
      "text/plain": [
       "<IPython.core.display.Markdown object>"
      ]
     },
     "metadata": {},
     "output_type": "display_data"
    },
    {
     "data": {
      "text/markdown": [
       " **1. For B = 3600 G**\n",
       "\n",
       "$n$ =  2.586886621857491e+21 $1 \\over m^3$\n",
       "\n",
       "$\\Delta n$:  1.828696297391816e+19 $1 \\over m^3$"
      ],
      "text/plain": [
       "<IPython.core.display.Markdown object>"
      ]
     },
     "metadata": {},
     "output_type": "display_data"
    },
    {
     "data": {
      "text/markdown": [
       "**2. For B = 2180 G**\n",
       "\n",
       "$n$ =  2.0339656719982146e+21 $1 \\over m^3$\n",
       "\n",
       "$\\Delta n$:  1.4094658053097157e+20 $1 \\over m^3$"
      ],
      "text/plain": [
       "<IPython.core.display.Markdown object>"
      ]
     },
     "metadata": {},
     "output_type": "display_data"
    }
   ],
   "source": [
    "q = 1.60217662e-19\n",
    "\n",
    "n1, n2   =  (q*Rh1)**-1   , (q*Rh2)**-1\n",
    "Δn1, Δn2 =  (n1*ΔRh1)/(Rh1), (n2*ΔRh2)/(Rh2)\n",
    "\n",
    "display(Markdown(\"We get the result:\"))\n",
    "display(Markdown(\"\"\" **1. For B = 3600 G**\n",
    "\n",
    "$n$ =  {} $1 \\over m^3$\n",
    "\n",
    "$\\Delta n$:  {} $1 \\over m^3$\"\"\".format(n1,  Δn1)))\n",
    "\n",
    "display(Markdown(\"\"\"**2. For B = 2180 G**\n",
    "\n",
    "$n$ =  {} $1 \\over m^3$\n",
    "\n",
    "$\\Delta n$:  {} $1 \\over m^3$\"\"\".format(n2,  Δn2)))"
   ]
  },
  {
   "cell_type": "markdown",
   "metadata": {
    "id": "LBtdGC0uwL12"
   },
   "source": [
    "## **Voltage v/s Current with magnetic field turned off**"
   ]
  },
  {
   "cell_type": "code",
   "execution_count": 9,
   "metadata": {
    "id": "GqZITdhkwL13",
    "outputId": "0279ad8e-76f0-48be-bf43-d016d6878c7e"
   },
   "outputs": [
    {
     "data": {
      "image/png": "[encoded data removed]",
      "text/plain": [
       "<Figure size 648x432 with 1 Axes>"
      ]
     },
     "metadata": {},
     "output_type": "display_data"
    }
   ],
   "source": [
    "i = np.array([0.35, 0.58, 1.1, 2.2]) #* 10**-3\n",
    "V = np.array([110, 188, 360, 721]) #* 10**-3\n",
    "\n",
    "####################################\n",
    "x = np.linspace(100, 750, 1000)\n",
    "args1, _1 = sp.curve_fit(f, V, i)  ## curve fitting\n",
    "m = args1[0]\n",
    "\n",
    "Δm, Δc = np.sqrt(np.diag(_1))  ## Standard deviation\n",
    "####################################\n",
    "\n",
    "plt.figure(figsize = [9, 6])\n",
    "\n",
    "plt.plot(V, i, \"#45d92b\", marker = \"*\", \n",
    "         markersize = 12, label = \"Given Data\")\n",
    "\n",
    "plt.plot(x, f(x, *args1), \"#5f6150\", \n",
    "         label = \"Best fit curve\")\n",
    "\n",
    "plt.ylabel(\"Current(mA)\")\n",
    "plt.xlabel(\"Voltage(mV)\")\n",
    "\n",
    "plt.suptitle(\"Current v/s Voltage\", \n",
    "             fontsize = 20)\n",
    "plt.title(\"With no magnetic feild\", fontsize = 12)\n",
    "\n",
    "\n",
    "##### TEXT BOX IN PLOT\n",
    "text = \"\\n\".join([\"m = {:.4f}\".format(m), \"Δm = {:.4f}\".format(Δm),\n",
    "                  \"c = {:.4f}\".format(args1[1]), \"Δc = {:.4f}\".format(Δc)])\n",
    "\n",
    "props = dict(boxstyle='round', facecolor='#ccff00',\n",
    "             alpha=0.5, edgecolor = \"black\")\n",
    "\n",
    "plt.text(500, 0.75, text, fontsize=12, \n",
    "        verticalalignment='top', bbox=props)\n",
    "#######################\n",
    "\n",
    "plt.grid(True)\n",
    "plt.legend()\n",
    "plt.savefig(\"conductivity.png\", dpi = 300)"
   ]
  },
  {
   "cell_type": "markdown",
   "metadata": {
    "id": "T0kbBotCwL15"
   },
   "source": [
    "Calculating **Resistivity** ($\\sigma$)\n",
    "\n",
    "We know the relation \n",
    "$$R = \\frac{L_x}{\\sigma L_y \\times L_z }$$\n",
    "$$\\sigma = \\frac{L_x}{R L_y \\times L_z} =  \\frac{m\\times L_x}{L_y \\times L_z} $$\n",
    "\n",
    "The values for *$m = R^{-1}$* and *$\\Delta m$* are shown in th above graph."
   ]
  },
  {
   "cell_type": "code",
   "execution_count": 10,
   "metadata": {
    "id": "nVEJ2u2DwL15",
    "outputId": "e04eef88-053e-4ff1-8bb9-bab9fec4eab1"
   },
   "outputs": [
    {
     "data": {
      "text/markdown": [
       "_**Using the values we get:**_\n"
      ],
      "text/plain": [
       "<IPython.core.display.Markdown object>"
      ]
     },
     "metadata": {},
     "output_type": "display_data"
    },
    {
     "data": {
      "text/markdown": [
       "$\\sigma$ : $9.0951$ $(\\Omega·m)^-1$\n",
       "\n",
       "$\\Delta \\sigma$:  $0.0285$ $(\\Omega·m)^-1$"
      ],
      "text/plain": [
       "<IPython.core.display.Markdown object>"
      ]
     },
     "metadata": {},
     "output_type": "display_data"
    }
   ],
   "source": [
    "sigma = (m*Lx)/(Ly*Lz)\n",
    "Δsigma = (sigma*Δm)/(m)\n",
    "\n",
    "display(Markdown(\"_**Using the values we get:**_\\n\"))\n",
    "display(Markdown(\"\"\"$\\sigma$ : ${:.4f}$ $(\\Omega·m)^-1$\n",
    "\n",
    "$\\Delta \\sigma$:  ${:.4f}$ $(\\Omega·m)^-1$\"\"\".format(sigma,  Δsigma)))"
   ]
  },
  {
   "cell_type": "markdown",
   "metadata": {
    "id": "aaN7MPs9wL16"
   },
   "source": [
    "## **Mobility ($\\mu$) of the Charge Carriers**\n",
    "\n",
    "Remember the relation:\n",
    "$$\\sigma = n q \\mu$$ \n",
    "$$R_H = \\frac{1}{qn}$$\n",
    "\n",
    "This implies:\n",
    "$$\\mu = {\\sigma \\times R_H}$$\n",
    "\n",
    "We get:"
   ]
  },
  {
   "cell_type": "code",
   "execution_count": 13,
   "metadata": {
    "id": "nIZtkuAywL17",
    "outputId": "ca053c2f-2d0d-4c24-d1b8-237f6dea96ad"
   },
   "outputs": [
    {
     "data": {
      "text/markdown": [
       "We get the result:"
      ],
      "text/plain": [
       "<IPython.core.display.Markdown object>"
      ]
     },
     "metadata": {},
     "output_type": "display_data"
    },
    {
     "data": {
      "text/markdown": [
       " **1. For B = 3600 G**\n",
       "\n",
       "$\\mu$ =  0.02194 $m^3 \\over V s$\n",
       "\n",
       "$\\Delta \\mu$:  0.0002 $m^3 \\over V s$"
      ],
      "text/plain": [
       "<IPython.core.display.Markdown object>"
      ]
     },
     "metadata": {},
     "output_type": "display_data"
    },
    {
     "data": {
      "text/markdown": [
       "**2. For B = 2180 G**\n",
       "\n",
       "$\\mu$ =  0.02791 $m^3 \\over V s$\n",
       "\n",
       "$\\Delta \\mu$:  0.00194 $m^3 \\over V s$"
      ],
      "text/plain": [
       "<IPython.core.display.Markdown object>"
      ]
     },
     "metadata": {},
     "output_type": "display_data"
    }
   ],
   "source": [
    "mu1, mu2 = sigma * Rh1, sigma * Rh2\n",
    "\n",
    "Δmu1, Δmu2 = mu1*np.sqrt((Δsigma/sigma)**2 + (ΔRh1/Rh1)**2), mu2*np.sqrt((Δsigma/sigma)**2 + (ΔRh2/Rh2)**2)\n",
    "\n",
    "display(Markdown(\"We get the result:\"))\n",
    "display(Markdown(\"\"\" **1. For B = 3600 G**\n",
    "\n",
    "$\\mu$ =  {:.5f} $m^3 \\over V s$\n",
    "\n",
    "$\\Delta \\mu$:  {:.4f} $m^3 \\over V s$\"\"\".format(mu1,  Δmu1)))\n",
    "\n",
    "display(Markdown(\"\"\"**2. For B = 2180 G**\n",
    "\n",
    "$\\mu$ =  {:.5f} $m^3 \\over V s$\n",
    "\n",
    "$\\Delta \\mu$:  {:.5f} $m^3 \\over V s$\"\"\".format(mu2,  Δmu2)))"
   ]
  },
  {
   "cell_type": "markdown",
   "metadata": {
    "id": "hGbqohJQwL18"
   },
   "source": [
    "# **Final Results**\n",
    "\n",
    "$\\sigma = (9.09 \\pm 0.03) (\\Omega·m)^{-1}$\n",
    "\n",
    "## **For B = 3600 Gauss**\n",
    "$R_H = (2.41 \\pm 0.02) \\cdot 10^{-3} \\frac{\\Omega m}{T}$\n",
    "\n",
    "$n = (2.59 \\pm 0.02) \\cdot 10^{21}  m^{-3}$\n",
    "\n",
    "$\\mu = (2.19 \\pm 0.02) \\frac{m^3}{Vs}$\n",
    "\n",
    "## **For B = 2180 Gauss**\n",
    "$R_H = (3.07 \\pm 0.21) \\cdot 10^{-3} \\frac{\\Omega m}{T}$\n",
    "\n",
    "$n = (2.03 \\pm 0.14) \\cdot 10^{21}  m^{-3}$\n",
    "\n",
    "$\\mu = (2.79 \\pm 0.19) \\frac{m^3}{Vs}$\n",
    "\n",
    "The charge carrier in the sample were ***electrons***.  Same was used for calculating the mobility and density of the charfe carriers. "
   ]
  },
  {
   "cell_type": "code",
   "execution_count": null,
   "metadata": {},
   "outputs": [],
   "source": []
  }
 ],
 "metadata": {
  "colab": {
   "collapsed_sections": [],
   "name": "data_analysis.ipynb",
   "provenance": []
  },
  "kernelspec": {
   "display_name": "Python 3",
   "language": "python",
   "name": "python3"
  },
  "language_info": {
   "codemirror_mode": {
    "name": "ipython",
    "version": 3
   },
   "file_extension": ".py",
   "mimetype": "text/x-python",
   "name": "python",
   "nbconvert_exporter": "python",
   "pygments_lexer": "ipython3",
   "version": "3.8.6"
  }
 },
 "nbformat": 4,
 "nbformat_minor": 4
}
