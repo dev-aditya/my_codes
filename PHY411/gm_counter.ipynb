{
 "cells": [
  {
   "cell_type": "code",
   "execution_count": 1,
   "id": "2c85bba2-dec6-484a-874e-f7b0f5bec46c",
   "metadata": {},
   "outputs": [],
   "source": [
    "import pandas as pd\n",
    "import matplotlib.pyplot as plt\n",
    "from scipy import optimize\n",
    "from numpy import random\n",
    "import numpy as np\n",
    "from scipy.special import factorial"
   ]
  },
  {
   "cell_type": "code",
   "execution_count": 2,
   "id": "789ef664-4db0-4150-a1a0-dfdf241aa941",
   "metadata": {},
   "outputs": [],
   "source": [
    "xl_file = pd.ExcelFile(\"data/GM counter.xlsx\")\n",
    "\n",
    "dfs = {sheet_name: xl_file.parse(sheet_name) \n",
    "          for sheet_name in xl_file.sheet_names}"
   ]
  },
  {
   "cell_type": "code",
   "execution_count": 3,
   "id": "f0d18ade-8435-4235-bf6c-cb881a8b8035",
   "metadata": {},
   "outputs": [
    {
     "data": {
      "text/html": [
       "<div>\n",
       "<style scoped>\n",
       "    .dataframe tbody tr th:only-of-type {\n",
       "        vertical-align: middle;\n",
       "    }\n",
       "\n",
       "    .dataframe tbody tr th {\n",
       "        vertical-align: top;\n",
       "    }\n",
       "\n",
       "    .dataframe thead th {\n",
       "        text-align: right;\n",
       "    }\n",
       "</style>\n",
       "<table border=\"1\" class=\"dataframe\">\n",
       "  <thead>\n",
       "    <tr style=\"text-align: right;\">\n",
       "      <th></th>\n",
       "      <th>VOLTAGE</th>\n",
       "      <th>COUNTS</th>\n",
       "      <th>Unnamed: 2</th>\n",
       "      <th>VOLTAGE</th>\n",
       "      <th>COUNTS(41s)</th>\n",
       "      <th>Unnamed: 5</th>\n",
       "      <th>Cs(137) WITH DUMMY(180s)</th>\n",
       "      <th>Unnamed: 7</th>\n",
       "    </tr>\n",
       "  </thead>\n",
       "  <tbody>\n",
       "    <tr>\n",
       "      <th>0</th>\n",
       "      <td>150.0</td>\n",
       "      <td>0.0</td>\n",
       "      <td>NaN</td>\n",
       "      <td>550</td>\n",
       "      <td>989</td>\n",
       "      <td>NaN</td>\n",
       "      <td>VOLTAGE</td>\n",
       "      <td>COUNTS</td>\n",
       "    </tr>\n",
       "    <tr>\n",
       "      <th>1</th>\n",
       "      <td>170.0</td>\n",
       "      <td>0.0</td>\n",
       "      <td>NaN</td>\n",
       "      <td>550</td>\n",
       "      <td>980</td>\n",
       "      <td>NaN</td>\n",
       "      <td>550</td>\n",
       "      <td>1556</td>\n",
       "    </tr>\n",
       "    <tr>\n",
       "      <th>2</th>\n",
       "      <td>190.0</td>\n",
       "      <td>0.0</td>\n",
       "      <td>NaN</td>\n",
       "      <td>550</td>\n",
       "      <td>957</td>\n",
       "      <td>NaN</td>\n",
       "      <td>NaN</td>\n",
       "      <td>NaN</td>\n",
       "    </tr>\n",
       "    <tr>\n",
       "      <th>3</th>\n",
       "      <td>210.0</td>\n",
       "      <td>0.0</td>\n",
       "      <td>NaN</td>\n",
       "      <td>550</td>\n",
       "      <td>1017</td>\n",
       "      <td>NaN</td>\n",
       "      <td>Cs(137) WITH Co(60) (180s)</td>\n",
       "      <td>NaN</td>\n",
       "    </tr>\n",
       "    <tr>\n",
       "      <th>4</th>\n",
       "      <td>230.0</td>\n",
       "      <td>0.0</td>\n",
       "      <td>NaN</td>\n",
       "      <td>550</td>\n",
       "      <td>988</td>\n",
       "      <td>NaN</td>\n",
       "      <td>VOLTAGE</td>\n",
       "      <td>COUNTS</td>\n",
       "    </tr>\n",
       "  </tbody>\n",
       "</table>\n",
       "</div>"
      ],
      "text/plain": [
       "   VOLTAGE   COUNTS  Unnamed: 2  VOLTAGE  COUNTS(41s)  Unnamed: 5  \\\n",
       "0     150.0     0.0         NaN      550          989         NaN   \n",
       "1     170.0     0.0         NaN      550          980         NaN   \n",
       "2     190.0     0.0         NaN      550          957         NaN   \n",
       "3     210.0     0.0         NaN      550         1017         NaN   \n",
       "4     230.0     0.0         NaN      550          988         NaN   \n",
       "\n",
       "     Cs(137) WITH DUMMY(180s) Unnamed: 7  \n",
       "0                    VOLTAGE      COUNTS  \n",
       "1                         550       1556  \n",
       "2                         NaN        NaN  \n",
       "3  Cs(137) WITH Co(60) (180s)        NaN  \n",
       "4                    VOLTAGE      COUNTS  "
      ]
     },
     "execution_count": 3,
     "metadata": {},
     "output_type": "execute_result"
    }
   ],
   "source": [
    "bg = dfs['BACKGROUND'];\n",
    "bgp = bg.iloc[:, 3:]\n",
    "src = dfs['SOURCE']\n",
    "src.head()"
   ]
  },
  {
   "cell_type": "markdown",
   "id": "f1029e0a-b327-4163-8cd0-00654a070f79",
   "metadata": {},
   "source": [
    "## Plateau Graph"
   ]
  },
  {
   "cell_type": "code",
   "execution_count": 4,
   "id": "274db4a0-39dd-4321-945a-8d736ffaafef",
   "metadata": {},
   "outputs": [
    {
     "data": {
      "text/plain": [
       "<matplotlib.legend.Legend at 0x7fc39f865cf0>"
      ]
     },
     "execution_count": 4,
     "metadata": {},
     "output_type": "execute_result"
    },
    {
     "data": {
      "image/png": "[encoded data removed]",
      "text/plain": [
       "<Figure size 600x400 with 1 Axes>"
      ]
     },
     "metadata": {},
     "output_type": "display_data"
    }
   ],
   "source": [
    "plt.figure(figsize=[6,4])\n",
    "\n",
    "plt.scatter(src.iloc[:, 0], src.iloc[:, 1], alpha=0.9, linewidths=0.1, color=\"red\", label=r\"$^{137}Cs$\")\n",
    "\n",
    "plt.scatter(bg.iloc[:, 0], bg.iloc[:, 1], alpha=0.9, linewidths=0.1, color=\"green\", label = \"Background\")\n",
    "\n",
    "plt.xlabel(\"VOLTAGE (IN V)\")\n",
    "plt.ylabel(\"COUNTS\")\n",
    "plt.grid()\n",
    "plt.legend()"
   ]
  },
  {
   "cell_type": "code",
   "execution_count": 5,
   "id": "4cfd4ff8-3e7e-4ddd-a6d8-ffe8e5cc53f2",
   "metadata": {},
   "outputs": [
    {
     "name": "stdout",
     "output_type": "stream",
     "text": [
      "Slope of plateau:  0.7475445639444885\n",
      "Operating Voltage:  1491.0740740740741\n"
     ]
    }
   ],
   "source": [
    "## Part 1\n",
    "\n",
    "def linear(x, m, c):\n",
    "    return m * x + c\n",
    "\n",
    "xdata = src.iloc[15:42, 0]  \n",
    "ydata = src.iloc[15:42, 1]\n",
    "\n",
    "params = optimize.curve_fit(linear, xdata, ydata,)\n",
    "\n",
    "print(\"Slope of plateau: \", params[0][0])\n",
    "print(\"Operating Voltage: \", ydata.mean())"
   ]
  },
  {
   "cell_type": "code",
   "execution_count": 6,
   "id": "08d10b79-521f-4776-99a3-eae5e6088da8",
   "metadata": {},
   "outputs": [],
   "source": [
    "## Part 2"
   ]
  },
  {
   "cell_type": "code",
   "execution_count": 14,
   "id": "09e8778e-1c95-42bf-9f8b-97865c8747f3",
   "metadata": {},
   "outputs": [
    {
     "name": "stderr",
     "output_type": "stream",
     "text": [
      "/tmp/ipykernel_15563/557193022.py:2: SettingWithCopyWarning: \n",
      "A value is trying to be set on a copy of a slice from a DataFrame\n",
      "\n",
      "See the caveats in the documentation: https://pandas.pydata.org/pandas-docs/stable/user_guide/indexing.html#returning-a-view-versus-a-copy\n",
      "  bgp[\"COUNTS.1\"][i] = random.poisson(10.6, 1) ## everytime df is updates and mean is updated too\n"
     ]
    },
    {
     "data": {
      "text/html": [
       "<div>\n",
       "<style scoped>\n",
       "    .dataframe tbody tr th:only-of-type {\n",
       "        vertical-align: middle;\n",
       "    }\n",
       "\n",
       "    .dataframe tbody tr th {\n",
       "        vertical-align: top;\n",
       "    }\n",
       "\n",
       "    .dataframe thead th {\n",
       "        text-align: right;\n",
       "    }\n",
       "</style>\n",
       "<table border=\"1\" class=\"dataframe\">\n",
       "  <thead>\n",
       "    <tr style=\"text-align: right;\">\n",
       "      <th></th>\n",
       "      <th>VOLTAGE.1</th>\n",
       "      <th>COUNTS.1</th>\n",
       "    </tr>\n",
       "  </thead>\n",
       "  <tbody>\n",
       "    <tr>\n",
       "      <th>0</th>\n",
       "      <td>550</td>\n",
       "      <td>9.0</td>\n",
       "    </tr>\n",
       "    <tr>\n",
       "      <th>1</th>\n",
       "      <td>550</td>\n",
       "      <td>10.0</td>\n",
       "    </tr>\n",
       "    <tr>\n",
       "      <th>2</th>\n",
       "      <td>550</td>\n",
       "      <td>11.0</td>\n",
       "    </tr>\n",
       "    <tr>\n",
       "      <th>3</th>\n",
       "      <td>550</td>\n",
       "      <td>20.0</td>\n",
       "    </tr>\n",
       "    <tr>\n",
       "      <th>4</th>\n",
       "      <td>550</td>\n",
       "      <td>7.0</td>\n",
       "    </tr>\n",
       "  </tbody>\n",
       "</table>\n",
       "</div>"
      ],
      "text/plain": [
       "   VOLTAGE.1  COUNTS.1\n",
       "0        550       9.0\n",
       "1        550      10.0\n",
       "2        550      11.0\n",
       "3        550      20.0\n",
       "4        550       7.0"
      ]
     },
     "execution_count": 14,
     "metadata": {},
     "output_type": "execute_result"
    }
   ],
   "source": [
    "for i in range(50, len(bgp[\"COUNTS.1\"])):\n",
    "    bgp[\"COUNTS.1\"][i] = random.poisson(10.6, 1) ## everytime df is updates and mean is updated too\n",
    "bgp.head()"
   ]
  },
  {
   "cell_type": "code",
   "execution_count": 41,
   "id": "3b4e4647-31de-4a2d-af1f-5b8d096ac034",
   "metadata": {},
   "outputs": [
    {
     "data": {
      "image/png": "[encoded data removed]",
      "text/plain": [
       "<Figure size 600x400 with 1 Axes>"
      ]
     },
     "metadata": {},
     "output_type": "display_data"
    }
   ],
   "source": [
    "plt.figure(figsize=[6,4])\n",
    "(n, bins, patches) = plt.hist(bgp[\"COUNTS.1\"], bins=70, density=True)\n",
    "\n",
    "def poiss(x, mu): ## n = counts, mu = mean\n",
    "    return mu**x * np.exp(-mu) / factorial(x)\n",
    "\n",
    "\n",
    "(mu, params) = optimize.curve_fit(poiss, bins[:-1], n)\n",
    "\n",
    "x = np.linspace(bins.min(), bins.max(), 100)\n",
    "\n",
    "plt.plot(x, poiss(x, mu[0]))\n",
    "\n",
    "plt.ylabel(\"COUNTS FREQUENCY\")\n",
    "plt.xlabel(\"COUNTS\")\n",
    "plt.grid()\n",
    "plt.show()"
   ]
  },
  {
   "cell_type": "code",
   "execution_count": 39,
   "id": "3f80682d-ae01-4302-8a05-0aa5f11d22ce",
   "metadata": {},
   "outputs": [
    {
     "data": {
      "text/plain": [
       "array([0.01914669, 0.02170775, 0.02447434, 0.027445  , 0.03061589,\n",
       "       0.03398075, 0.03753081, 0.04125478, 0.04513893, 0.04916711,\n",
       "       0.05332086, 0.05757963, 0.06192089, 0.06632041, 0.07075251,\n",
       "       0.07519033, 0.07960614, 0.08397165, 0.08825839, 0.09243798,\n",
       "       0.09648251, 0.10036485, 0.10405895, 0.10754019, 0.11078558,\n",
       "       0.11377409, 0.11648679, 0.1189071 , 0.1210209 , 0.12281667,\n",
       "       0.12428554, 0.12542138, 0.12622075, 0.12668293, 0.12680978,\n",
       "       0.12660573, 0.1260776 , 0.12523449, 0.12408758, 0.12264996,\n",
       "       0.12093644, 0.11896331, 0.11674816, 0.1143096 , 0.11166709,\n",
       "       0.10884069, 0.10585086, 0.10271822, 0.0994634 , 0.09610681,\n",
       "       0.09266849, 0.08916795, 0.08562403, 0.08205479, 0.07847736,\n",
       "       0.07490789, 0.0713615 , 0.06785213, 0.06439263, 0.06099462,\n",
       "       0.05766854, 0.05442365, 0.05126804, 0.04820863, 0.04525124,\n",
       "       0.04240063, 0.03966051, 0.03703366, 0.03452194, 0.03212637,\n",
       "       0.0298472 , 0.02768398, 0.0256356 , 0.02370039, 0.0218762 ,\n",
       "       0.02016041, 0.01855002, 0.01704173, 0.01563197, 0.01431696,\n",
       "       0.01309276, 0.01195531, 0.01090049, 0.00992412, 0.00902205,\n",
       "       0.00819013, 0.00742429, 0.00672051, 0.00607489, 0.00548364,\n",
       "       0.0049431 , 0.00444973, 0.00400017, 0.00359118, 0.00321969,\n",
       "       0.00288281, 0.00257779, 0.00230203, 0.00205311, 0.00182876])"
      ]
     },
     "execution_count": 39,
     "metadata": {},
     "output_type": "execute_result"
    }
   ],
   "source": [
    "poiss(x, mu[0])"
   ]
  },
  {
   "cell_type": "code",
   "execution_count": null,
   "id": "04d28f8b-92ef-422d-bd32-d9e5e17bd8da",
   "metadata": {},
   "outputs": [],
   "source": []
  },
  {
   "cell_type": "code",
   "execution_count": null,
   "id": "223d7e31-e799-49ab-ad24-1e05b673b727",
   "metadata": {},
   "outputs": [],
   "source": []
  }
 ],
 "metadata": {
  "kernelspec": {
   "display_name": "Python 3 (ipykernel)",
   "language": "python",
   "name": "python3"
  },
  "language_info": {
   "codemirror_mode": {
    "name": "ipython",
    "version": 3
   },
   "file_extension": ".py",
   "mimetype": "text/x-python",
   "name": "python",
   "nbconvert_exporter": "python",
   "pygments_lexer": "ipython3",
   "version": "3.10.4"
  }
 },
 "nbformat": 4,
 "nbformat_minor": 5
}
