{
 "cells": [
  {
   "cell_type": "code",
   "execution_count": null,
   "metadata": {},
   "outputs": [],
   "source": [
    "%matplotlib inline\n",
    "import matplotlib.pyplot as plt\n",
    "import numpy as np\n",
    "import matplotlib\n",
    "matplotlib.style.use('seaborn-dark')\n",
    "#matplotlib.style.available"
   ]
  },
  {
   "cell_type": "code",
   "execution_count": null,
   "metadata": {},
   "outputs": [],
   "source": [
    "def exp_plot(N0, array, rates):\n",
    "    \n",
    "    plt.figure(figsize = (12, 8))\n",
    "    for rate in rates:\n",
    "        plt.plot(array, N0*np.exp(rate*array), label = f\"r = {rate}\")\n",
    "    plt.grid(True)\n",
    "    plt.legend()\n",
    "    plt.ylabel(r\"$N_t$\")\n",
    "    plt.xlabel(\"time\")\n",
    "    plt.title(\"Exponential Model\")\n",
    "    plt.savefig(\"exp_plot.png\")\n",
    "def exp_plot_log(N0, array, rates):\n",
    "    \n",
    "    plt.figure(figsize = (12, 8))\n",
    "    for rate in rates:\n",
    "        plt.plot(array, np.log(N0*np.exp(rate*array)), label = f\"r = {rate}\")\n",
    "    plt.grid(True)\n",
    "    plt.legend()\n",
    "    plt.ylabel(r\"$\\log _ e (N_t)$\")\n",
    "    plt.xlabel(\"time\")\n",
    "    plt.title(\"Exponential Model \\n Log scale\")\n",
    "    plt.savefig(\"exp_log_plot.png\")"
   ]
  },
  {
   "cell_type": "code",
   "execution_count": null,
   "metadata": {},
   "outputs": [],
   "source": [
    "array = np.linspace(0, 1, 1000)\n",
    "rates = np.array([1, 2, 2.2, 2.5, 3])\n",
    "exp_plot(8, array, rates)\n",
    "exp_plot_log(8, array, rates)"
   ]
  },
  {
   "cell_type": "code",
   "execution_count": null,
   "metadata": {},
   "outputs": [],
   "source": [
    "def logistic(N0, K, rate, time):\n",
    "    return (K * N0)/(N0 + (np.exp(-rate*time)*(K - N0)))"
   ]
  },
  {
   "cell_type": "code",
   "execution_count": null,
   "metadata": {},
   "outputs": [],
   "source": [
    "time = np.linspace(0, 15, 1000)\n",
    "for K in np.array([100, 500, 1000]):\n",
    "    plt.figure(figsize=(12*1.2, 8))\n",
    "    for rate in [1, 2, 2.2, 2.5, 3, 3.2, 4]:\n",
    "        plt.plot(time, logistic(8, K, rate, time), label = f\"r = {rate}\")\n",
    "        plt.title(f\"Logistic curve For Carrying Capacity = {K}\")\n",
    "        plt.legend(loc = 'lower right')\n",
    "        plt.grid(True)\n",
    "        plt.xlabel(\"Time\")\n",
    "        plt.ylabel(\"Population\")\n",
    "    plt.savefig(f\"plot_carrying_{K}.png\")"
   ]
  },
  {
   "cell_type": "code",
   "execution_count": null,
   "metadata": {},
   "outputs": [],
   "source": [
    "def robert_mayer(Nt, r, k):\n",
    "    return Nt*np.exp(r*(1-(Nt/k)))\n",
    "\n",
    "time = np.arange(0, 100, 1)\n",
    "\n",
    "for k in np.array([100, 500, 1000]):\n",
    "    plt.figure(figsize=[9*9, 6*6])\n",
    "    for r in [1, 2, 2.2, 2.5, 3]:\n",
    "        array = np.array([])\n",
    "        Nt = 1\n",
    "        for t in time:\n",
    "            array = np.append(array, robert_mayer(Nt, r, k))\n",
    "            Nt = array[-1]\n",
    "        plt.plot(time, array, label = f\"r = {r}\")\n",
    "        plt.title(f\"Robert May For Carrying Capacity = {k}\", fontsize = 50)\n",
    "        plt.legend(loc='center left', bbox_to_anchor=(1, 0.5), fontsize = 40)\n",
    "        plt.grid(True)\n",
    "        plt.xlabel(\"Time\", fontsize = 40)\n",
    "        plt.ylabel(\"Population\", fontsize = 40)\n",
    "        plt.xticks(fontsize = 40)\n",
    "        plt.yticks(fontsize = 40)\n",
    "    plt.savefig(f\"robert_plot_carrying_{k}.png\")"
   ]
  },
  {
   "cell_type": "code",
   "execution_count": null,
   "metadata": {},
   "outputs": [],
   "source": [
    "def logistic(r, time, k = 100):\n",
    "    \n",
    "    x = np.zeros(len(time))\n",
    "    x[:] = r\n",
    "    y = np.array([])\n",
    "    Nt = 1\n",
    "    for _ in time:\n",
    "        y = np.append(y, robert_mayer(Nt, r, k))\n",
    "        Nt = y[-1]\n",
    "    return x, y"
   ]
  },
  {
   "cell_type": "code",
   "execution_count": null,
   "metadata": {},
   "outputs": [],
   "source": [
    "plt.figure(figsize= np.array([3, 2])*5)\n",
    "k = 500\n",
    "for r in np.linspace(0, 5, 500):\n",
    "    x, y = logistic(r, np.linspace(0, 1000, 1000), k= k)\n",
    "    plt.scatter(x[900:], y[900:], color = \"black\", s = 0.05)\n",
    "\n",
    "plt.grid(True)\n",
    "plt.xlabel(\"r\")\n",
    "plt.ylabel(\"Population\")\n",
    "plt.title(f\"Population v/s r after 900 time steps: k = {k}\")\n",
    "plt.savefig(f\"Carrying Capacity_{k}.png\")"
   ]
  },
  {
   "cell_type": "code",
   "execution_count": null,
   "metadata": {},
   "outputs": [],
   "source": []
  },
  {
   "cell_type": "code",
   "execution_count": null,
   "metadata": {},
   "outputs": [],
   "source": []
  }
 ],
 "metadata": {
  "kernelspec": {
   "display_name": "Python 3",
   "language": "python",
   "name": "python3"
  },
  "language_info": {
   "codemirror_mode": {
    "name": "ipython",
    "version": 3
   },
   "file_extension": ".py",
   "mimetype": "text/x-python",
   "name": "python",
   "nbconvert_exporter": "python",
   "pygments_lexer": "ipython3",
   "version": "3.8.8-final"
  }
 },
 "nbformat": 4,
 "nbformat_minor": 4
}